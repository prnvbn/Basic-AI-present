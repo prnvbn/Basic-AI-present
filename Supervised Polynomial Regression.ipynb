{
 "cells": [
  {
   "cell_type": "markdown",
   "metadata": {},
   "source": [
    "### Linear Regression\n",
    "\n",
    "1. Uses supervised learning i.e requires a labelled dataset\n",
    "2. Used to fit the data to a polynomial equation"
   ]
  },
  {
   "cell_type": "code",
   "execution_count": 1,
   "metadata": {},
   "outputs": [],
   "source": [
    "import warnings\n",
    "\n",
    "warnings.simplefilter(\"ignore\")"
   ]
  },
  {
   "cell_type": "code",
   "execution_count": 2,
   "metadata": {},
   "outputs": [
    {
     "name": "stderr",
     "output_type": "stream",
     "text": [
      "Using TensorFlow backend.\n"
     ]
    }
   ],
   "source": [
    "import numpy as np\n",
    "import matplotlib.pyplot as plt\n",
    "\n",
    "from keras.models import Sequential \n",
    "from keras.layers import Dense\n",
    "from keras.optimizers import Adam"
   ]
  },
  {
   "cell_type": "code",
   "execution_count": 3,
   "metadata": {},
   "outputs": [
    {
     "data": {
      "image/png": "[encoded data removed]",
      "text/plain": [
       "<Figure size 432x288 with 1 Axes>"
      ]
     },
     "metadata": {},
     "output_type": "display_data"
    }
   ],
   "source": [
    "# Generating 500 points of data along the sine wave\n",
    "np.random.seed(0)\n",
    "points = 500\n",
    "X = np.linspace(-3, 3, points)\n",
    "y = np.sin(X) + np.random.uniform(-0.5, 0.5, points)\n",
    "plt.scatter(X,y)\n",
    "plt.show()"
   ]
  },
  {
   "cell_type": "code",
   "execution_count": 4,
   "metadata": {},
   "outputs": [],
   "source": [
    "# Creating the Model\n",
    "model = Sequential()\n",
    "model.add(Dense(50,activation = 'sigmoid', input_dim=1))\n",
    "model.add(Dense(30, activation = 'sigmoid'))\n",
    "model.add(Dense(1))"
   ]
  },
  {
   "cell_type": "code",
   "execution_count": 5,
   "metadata": {
    "scrolled": true
   },
   "outputs": [
    {
     "name": "stdout",
     "output_type": "stream",
     "text": [
      "Epoch 1/50\n",
      "500/500 [==============================] - 0s 234us/step - loss: 0.4562\n",
      "Epoch 2/50\n",
      "500/500 [==============================] - 0s 67us/step - loss: 0.2402\n",
      "Epoch 3/50\n",
      "500/500 [==============================] - 0s 64us/step - loss: 0.2621\n",
      "Epoch 4/50\n",
      "500/500 [==============================] - 0s 64us/step - loss: 0.2257\n",
      "Epoch 5/50\n",
      "500/500 [==============================] - 0s 58us/step - loss: 0.2283\n",
      "Epoch 6/50\n",
      "500/500 [==============================] - 0s 95us/step - loss: 0.2253\n",
      "Epoch 7/50\n",
      "500/500 [==============================] - 0s 66us/step - loss: 0.2180\n",
      "Epoch 8/50\n",
      "500/500 [==============================] - 0s 73us/step - loss: 0.2205\n",
      "Epoch 9/50\n",
      "500/500 [==============================] - 0s 58us/step - loss: 0.2049\n",
      "Epoch 10/50\n",
      "500/500 [==============================] - 0s 59us/step - loss: 0.1913\n",
      "Epoch 11/50\n",
      "500/500 [==============================] - 0s 55us/step - loss: 0.1914\n",
      "Epoch 12/50\n",
      "500/500 [==============================] - 0s 94us/step - loss: 0.1782\n",
      "Epoch 13/50\n",
      "500/500 [==============================] - 0s 48us/step - loss: 0.1688\n",
      "Epoch 14/50\n",
      "500/500 [==============================] - 0s 64us/step - loss: 0.1582\n",
      "Epoch 15/50\n",
      "500/500 [==============================] - 0s 55us/step - loss: 0.1557\n",
      "Epoch 16/50\n",
      "500/500 [==============================] - 0s 44us/step - loss: 0.1450\n",
      "Epoch 17/50\n",
      "500/500 [==============================] - 0s 63us/step - loss: 0.1385\n",
      "Epoch 18/50\n",
      "500/500 [==============================] - 0s 82us/step - loss: 0.1311\n",
      "Epoch 19/50\n",
      "500/500 [==============================] - 0s 36us/step - loss: 0.1222\n",
      "Epoch 20/50\n",
      "500/500 [==============================] - 0s 50us/step - loss: 0.1271\n",
      "Epoch 21/50\n",
      "500/500 [==============================] - 0s 50us/step - loss: 0.1179\n",
      "Epoch 22/50\n",
      "500/500 [==============================] - 0s 63us/step - loss: 0.1169\n",
      "Epoch 23/50\n",
      "500/500 [==============================] - 0s 91us/step - loss: 0.1183\n",
      "Epoch 24/50\n",
      "500/500 [==============================] - 0s 90us/step - loss: 0.1176\n",
      "Epoch 25/50\n",
      "500/500 [==============================] - 0s 85us/step - loss: 0.1114\n",
      "Epoch 26/50\n",
      "500/500 [==============================] - 0s 53us/step - loss: 0.1081\n",
      "Epoch 27/50\n",
      "500/500 [==============================] - 0s 76us/step - loss: 0.1111\n",
      "Epoch 28/50\n",
      "500/500 [==============================] - 0s 85us/step - loss: 0.1245\n",
      "Epoch 29/50\n",
      "500/500 [==============================] - 0s 112us/step - loss: 0.1239\n",
      "Epoch 30/50\n",
      "500/500 [==============================] - 0s 117us/step - loss: 0.1130\n",
      "Epoch 31/50\n",
      "500/500 [==============================] - 0s 69us/step - loss: 0.1079\n",
      "Epoch 32/50\n",
      "500/500 [==============================] - 0s 76us/step - loss: 0.1144\n",
      "Epoch 33/50\n",
      "500/500 [==============================] - 0s 65us/step - loss: 0.1080\n",
      "Epoch 34/50\n",
      "500/500 [==============================] - 0s 56us/step - loss: 0.1112\n",
      "Epoch 35/50\n",
      "500/500 [==============================] - 0s 62us/step - loss: 0.1048\n",
      "Epoch 36/50\n",
      "500/500 [==============================] - 0s 61us/step - loss: 0.1088\n",
      "Epoch 37/50\n",
      "500/500 [==============================] - 0s 91us/step - loss: 0.1069\n",
      "Epoch 38/50\n",
      "500/500 [==============================] - 0s 59us/step - loss: 0.1057\n",
      "Epoch 39/50\n",
      "500/500 [==============================] - 0s 81us/step - loss: 0.1052\n",
      "Epoch 40/50\n",
      "500/500 [==============================] - 0s 90us/step - loss: 0.1048\n",
      "Epoch 41/50\n",
      "500/500 [==============================] - 0s 70us/step - loss: 0.1152\n",
      "Epoch 42/50\n",
      "500/500 [==============================] - 0s 70us/step - loss: 0.1032\n",
      "Epoch 43/50\n",
      "500/500 [==============================] - 0s 69us/step - loss: 0.1034\n",
      "Epoch 44/50\n",
      "500/500 [==============================] - 0s 63us/step - loss: 0.1060\n",
      "Epoch 45/50\n",
      "500/500 [==============================] - 0s 69us/step - loss: 0.1021\n",
      "Epoch 46/50\n",
      "500/500 [==============================] - 0s 79us/step - loss: 0.1019\n",
      "Epoch 47/50\n",
      "500/500 [==============================] - 0s 55us/step - loss: 0.1124\n",
      "Epoch 48/50\n",
      "500/500 [==============================] - 0s 55us/step - loss: 0.1088\n",
      "Epoch 49/50\n",
      "500/500 [==============================] - 0s 66us/step - loss: 0.1043\n",
      "Epoch 50/50\n",
      "500/500 [==============================] - 0s 88us/step - loss: 0.1080\n"
     ]
    },
    {
     "data": {
      "text/plain": [
       "<keras.callbacks.History at 0x7f9c08917198>"
      ]
     },
     "execution_count": 5,
     "metadata": {},
     "output_type": "execute_result"
    }
   ],
   "source": [
    "# Training the Model\n",
    "adam = Adam(lr = 0.01)\n",
    "model.compile(loss = 'mean_squared_error', optimizer=adam) \n",
    "model.fit(X,y,epochs=50)"
   ]
  },
  {
   "cell_type": "code",
   "execution_count": 6,
   "metadata": {},
   "outputs": [
    {
     "data": {
      "image/png": "[encoded data removed]",
      "text/plain": [
       "<Figure size 432x288 with 1 Axes>"
      ]
     },
     "metadata": {},
     "output_type": "display_data"
    }
   ],
   "source": [
    "# Plotting the predictions\n",
    "predictions = model.predict(X)\n",
    "plt.scatter(X,y)\n",
    "plt.plot(X,predictions, 'go')\n",
    "plt.show()"
   ]
  },
  {
   "cell_type": "code",
   "execution_count": null,
   "metadata": {},
   "outputs": [],
   "source": []
  }
 ],
 "metadata": {
  "kernelspec": {
   "display_name": "Python 3",
   "language": "python",
   "name": "python3"
  },
  "language_info": {
   "codemirror_mode": {
    "name": "ipython",
    "version": 3
   },
   "file_extension": ".py",
   "mimetype": "text/x-python",
   "name": "python",
   "nbconvert_exporter": "python",
   "pygments_lexer": "ipython3",
   "version": "3.6.9"
  }
 },
 "nbformat": 4,
 "nbformat_minor": 2
}
