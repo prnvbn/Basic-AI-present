{
 "cells": [
  {
   "cell_type": "markdown",
   "metadata": {},
   "source": [
    "### Linear Regression\n",
    "\n",
    "1. Uses supervised learning i.e requires a labelled dataset\n",
    "2. Used to fit the data to a polynomial equation"
   ]
  },
  {
   "cell_type": "code",
   "execution_count": 2,
   "metadata": {},
   "outputs": [],
   "source": [
    "import warnings\n",
    "\n",
    "warnings.simplefilter(\"ignore\")"
   ]
  },
  {
   "cell_type": "code",
   "execution_count": 3,
   "metadata": {},
   "outputs": [
    {
     "name": "stderr",
     "output_type": "stream",
     "text": [
      "Using TensorFlow backend.\n"
     ]
    }
   ],
   "source": [
    "import numpy as np\n",
    "import matplotlib.pyplot as plt\n",
    "\n",
    "from keras.models import Sequential \n",
    "from keras.layers import Dense\n",
    "from keras.optimizers import Adam"
   ]
  },
  {
   "cell_type": "code",
   "execution_count": 4,
   "metadata": {},
   "outputs": [
    {
     "data": {
      "image/png": "[encoded data removed]",
      "text/plain": [
       "<Figure size 432x288 with 1 Axes>"
      ]
     },
     "metadata": {},
     "output_type": "display_data"
    }
   ],
   "source": [
    "# Generating 500 points of data along the sine wave\n",
    "np.random.seed(0)\n",
    "points = 500\n",
    "X = np.linspace(-3, 3, points)\n",
    "y = np.sin(X) + np.random.uniform(-0.5, 0.5, points)\n",
    "plt.scatter(X,y)\n",
    "plt.show()"
   ]
  },
  {
   "cell_type": "code",
   "execution_count": 5,
   "metadata": {},
   "outputs": [],
   "source": [
    "# Creating the Model\n",
    "model = Sequential()\n",
    "model.add(Dense(50,activation = 'sigmoid', input_dim=1))\n",
    "model.add(Dense(30, activation = 'sigmoid'))\n",
    "model.add(Dense(1))"
   ]
  },
  {
   "cell_type": "code",
   "execution_count": 6,
   "metadata": {
    "scrolled": true
   },
   "outputs": [
    {
     "name": "stdout",
     "output_type": "stream",
     "text": [
      "Epoch 1/50\n",
      "500/500 [==============================] - 0s 199us/step - loss: 0.4567\n",
      "Epoch 2/50\n",
      "500/500 [==============================] - 0s 46us/step - loss: 0.2403\n",
      "Epoch 3/50\n",
      "500/500 [==============================] - 0s 109us/step - loss: 0.2624\n",
      "Epoch 4/50\n",
      "500/500 [==============================] - 0s 83us/step - loss: 0.2257\n",
      "Epoch 5/50\n",
      "500/500 [==============================] - 0s 59us/step - loss: 0.2282\n",
      "Epoch 6/50\n",
      "500/500 [==============================] - 0s 41us/step - loss: 0.2255\n",
      "Epoch 7/50\n",
      "500/500 [==============================] - 0s 64us/step - loss: 0.2182\n",
      "Epoch 8/50\n",
      "500/500 [==============================] - 0s 73us/step - loss: 0.2206\n",
      "Epoch 9/50\n",
      "500/500 [==============================] - 0s 71us/step - loss: 0.2050\n",
      "Epoch 10/50\n",
      "500/500 [==============================] - 0s 44us/step - loss: 0.1912\n",
      "Epoch 11/50\n",
      "500/500 [==============================] - 0s 101us/step - loss: 0.1913\n",
      "Epoch 12/50\n",
      "500/500 [==============================] - 0s 76us/step - loss: 0.1780\n",
      "Epoch 13/50\n",
      "500/500 [==============================] - 0s 64us/step - loss: 0.1684\n",
      "Epoch 14/50\n",
      "500/500 [==============================] - 0s 41us/step - loss: 0.1577\n",
      "Epoch 15/50\n",
      "500/500 [==============================] - 0s 26us/step - loss: 0.1553\n",
      "Epoch 16/50\n",
      "500/500 [==============================] - 0s 51us/step - loss: 0.1444\n",
      "Epoch 17/50\n",
      "500/500 [==============================] - 0s 32us/step - loss: 0.1379\n",
      "Epoch 18/50\n",
      "500/500 [==============================] - 0s 39us/step - loss: 0.1306\n",
      "Epoch 19/50\n",
      "500/500 [==============================] - 0s 47us/step - loss: 0.1219\n",
      "Epoch 20/50\n",
      "500/500 [==============================] - 0s 94us/step - loss: 0.1270\n",
      "Epoch 21/50\n",
      "500/500 [==============================] - 0s 58us/step - loss: 0.1177\n",
      "Epoch 22/50\n",
      "500/500 [==============================] - 0s 55us/step - loss: 0.1166\n",
      "Epoch 23/50\n",
      "500/500 [==============================] - 0s 50us/step - loss: 0.1179\n",
      "Epoch 24/50\n",
      "500/500 [==============================] - 0s 83us/step - loss: 0.1181\n",
      "Epoch 25/50\n",
      "500/500 [==============================] - 0s 49us/step - loss: 0.1116\n",
      "Epoch 26/50\n",
      "500/500 [==============================] - 0s 48us/step - loss: 0.1078\n",
      "Epoch 27/50\n",
      "500/500 [==============================] - 0s 67us/step - loss: 0.1111\n",
      "Epoch 28/50\n",
      "500/500 [==============================] - 0s 73us/step - loss: 0.1242\n",
      "Epoch 29/50\n",
      "500/500 [==============================] - 0s 48us/step - loss: 0.1234\n",
      "Epoch 30/50\n",
      "500/500 [==============================] - 0s 67us/step - loss: 0.1125\n",
      "Epoch 31/50\n",
      "500/500 [==============================] - 0s 68us/step - loss: 0.1076\n",
      "Epoch 32/50\n",
      "500/500 [==============================] - 0s 59us/step - loss: 0.1146\n",
      "Epoch 33/50\n",
      "500/500 [==============================] - 0s 47us/step - loss: 0.1079\n",
      "Epoch 34/50\n",
      "500/500 [==============================] - 0s 66us/step - loss: 0.1108\n",
      "Epoch 35/50\n",
      "500/500 [==============================] - 0s 43us/step - loss: 0.1044\n",
      "Epoch 36/50\n",
      "500/500 [==============================] - 0s 67us/step - loss: 0.1087\n",
      "Epoch 37/50\n",
      "500/500 [==============================] - 0s 71us/step - loss: 0.1066\n",
      "Epoch 38/50\n",
      "500/500 [==============================] - 0s 65us/step - loss: 0.1051\n",
      "Epoch 39/50\n",
      "500/500 [==============================] - 0s 68us/step - loss: 0.1046\n",
      "Epoch 40/50\n",
      "500/500 [==============================] - 0s 50us/step - loss: 0.1041\n",
      "Epoch 41/50\n",
      "500/500 [==============================] - 0s 62us/step - loss: 0.1155\n",
      "Epoch 42/50\n",
      "500/500 [==============================] - 0s 37us/step - loss: 0.1031\n",
      "Epoch 43/50\n",
      "500/500 [==============================] - 0s 144us/step - loss: 0.1023\n",
      "Epoch 44/50\n",
      "500/500 [==============================] - 0s 88us/step - loss: 0.1048\n",
      "Epoch 45/50\n",
      "500/500 [==============================] - 0s 121us/step - loss: 0.1013\n",
      "Epoch 46/50\n",
      "500/500 [==============================] - 0s 100us/step - loss: 0.1015\n",
      "Epoch 47/50\n",
      "500/500 [==============================] - 0s 65us/step - loss: 0.1127\n",
      "Epoch 48/50\n",
      "500/500 [==============================] - 0s 67us/step - loss: 0.1090\n",
      "Epoch 49/50\n",
      "500/500 [==============================] - 0s 59us/step - loss: 0.1050\n",
      "Epoch 50/50\n",
      "500/500 [==============================] - 0s 70us/step - loss: 0.1082\n"
     ]
    },
    {
     "data": {
      "text/plain": [
       "<keras.callbacks.History at 0x7fbb38160128>"
      ]
     },
     "execution_count": 6,
     "metadata": {},
     "output_type": "execute_result"
    }
   ],
   "source": [
    "# Training the Model\n",
    "adam = Adam(lr = 0.01)\n",
    "model.compile(loss = 'mean_squared_error', optimizer=adam) \n",
    "model.fit(X,y,epochs=50)"
   ]
  },
  {
   "cell_type": "code",
   "execution_count": 20,
   "metadata": {},
   "outputs": [
    {
     "data": {
      "image/png": "[encoded data removed]",
      "text/plain": [
       "<Figure size 432x288 with 1 Axes>"
      ]
     },
     "metadata": {},
     "output_type": "display_data"
    }
   ],
   "source": [
    "# Plotting the predictions\n",
    "predictions = model.predict(X)\n",
    "ppoint = model.predict([-1])[0][0] \n",
    "plt.scatter(X,y)\n",
    "plt.plot(X,predictions, 'go')\n",
    "plt.plot([-1], [ppoint], 'ro')\n",
    "plt.show()"
   ]
  },
  {
   "cell_type": "code",
   "execution_count": null,
   "metadata": {},
   "outputs": [],
   "source": []
  }
 ],
 "metadata": {
  "kernelspec": {
   "display_name": "Python 3",
   "language": "python",
   "name": "python3"
  },
  "language_info": {
   "codemirror_mode": {
    "name": "ipython",
    "version": 3
   },
   "file_extension": ".py",
   "mimetype": "text/x-python",
   "name": "python",
   "nbconvert_exporter": "python",
   "pygments_lexer": "ipython3",
   "version": "3.6.9"
  }
 },
 "nbformat": 4,
 "nbformat_minor": 2
}
